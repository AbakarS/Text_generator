{
 "cells": [
  {
   "cell_type": "markdown",
   "id": "8f81904b",
   "metadata": {},
   "source": [
    "# **Text generator**"
   ]
  },
  {
   "cell_type": "markdown",
   "id": "3c1cbca1",
   "metadata": {},
   "source": [
    "## **Importing librairies**"
   ]
  },
  {
   "cell_type": "code",
   "execution_count": 211,
   "id": "fced38a3",
   "metadata": {},
   "outputs": [],
   "source": [
    "import tensorflow as tf\n",
    "import pandas as pd\n",
    "import numpy as np"
   ]
  },
  {
   "cell_type": "markdown",
   "id": "6cca65d3",
   "metadata": {},
   "source": [
    "## **Read data**"
   ]
  },
  {
   "cell_type": "code",
   "execution_count": 212,
   "id": "af595aa2",
   "metadata": {},
   "outputs": [
    {
     "name": "stdout",
     "output_type": "stream",
     "text": [
      "Text is 1115394 characters long\n"
     ]
    }
   ],
   "source": [
    "def import_data(input_text):\n",
    "    with open(input_text, 'r', encoding='utf-8') as file:\n",
    "        text = file.read()\n",
    "    return text\n",
    "\n",
    "input_text = import_data(\"input.txt\")\n",
    "\n",
    "print(\"Text is {} characters long\".format(len(input_text)))"
   ]
  },
  {
   "cell_type": "markdown",
   "id": "ce50e460",
   "metadata": {},
   "source": [
    "## **Text preprocessing**"
   ]
  },
  {
   "cell_type": "code",
   "execution_count": 213,
   "id": "dd11af50",
   "metadata": {
    "scrolled": false
   },
   "outputs": [
    {
     "name": "stdout",
     "output_type": "stream",
     "text": [
      "First 250 characters :\n",
      "\n",
      " First Citizen:\n",
      "Before we proceed any further, hear me speak.\n",
      "\n",
      "All:\n",
      "Speak, speak.\n",
      "\n",
      "First Citizen:\n",
      "You are all resolved rather to die than to famish?\n",
      "\n",
      "All:\n",
      "Resolved. resolved.\n",
      "\n",
      "First Citizen:\n",
      "First, you know Caius Marcius is chief enemy to the people.\n",
      "\n"
     ]
    }
   ],
   "source": [
    "print(\"First 250 characters :\\n\\n\", input_text[:250])"
   ]
  },
  {
   "cell_type": "markdown",
   "id": "ce02a21d",
   "metadata": {},
   "source": [
    "### **Unique characters**\n",
    "\n",
    "We use **sorted** and **set** methods to retrieve unique characters"
   ]
  },
  {
   "cell_type": "code",
   "execution_count": 214,
   "id": "87f51824",
   "metadata": {},
   "outputs": [
    {
     "name": "stdout",
     "output_type": "stream",
     "text": [
      "Unique characters :\n",
      "\n",
      " ['\\n', ' ', '!', '$', '&', \"'\", ',', '-', '.', '3', ':', ';', '?', 'A', 'B', 'C', 'D', 'E', 'F', 'G', 'H', 'I', 'J', 'K', 'L', 'M', 'N', 'O', 'P', 'Q', 'R', 'S', 'T', 'U', 'V', 'W', 'X', 'Y', 'Z', 'a', 'b', 'c', 'd', 'e', 'f', 'g', 'h', 'i', 'j', 'k', 'l', 'm', 'n', 'o', 'p', 'q', 'r', 's', 't', 'u', 'v', 'w', 'x', 'y', 'z'] \n",
      "\n",
      "Unique characters is : 65\n"
     ]
    }
   ],
   "source": [
    "unique_character = sorted(set(input_text))\n",
    "print(\"Unique characters :\\n\\n\", unique_character, \"\\n\")\n",
    "print(f\"Unique characters is : {len(unique_character)}\")"
   ]
  },
  {
   "cell_type": "markdown",
   "id": "95e375be",
   "metadata": {},
   "source": [
    "### **Unique characters array**"
   ]
  },
  {
   "cell_type": "code",
   "execution_count": 215,
   "id": "f46be171",
   "metadata": {},
   "outputs": [
    {
     "data": {
      "text/plain": [
       "array(['\\n', ' ', '!', '$', '&', \"'\", ',', '-', '.', '3', ':', ';', '?',\n",
       "       'A', 'B', 'C', 'D', 'E', 'F', 'G', 'H', 'I', 'J', 'K', 'L', 'M',\n",
       "       'N', 'O', 'P', 'Q', 'R', 'S', 'T', 'U', 'V', 'W', 'X', 'Y', 'Z',\n",
       "       'a', 'b', 'c', 'd', 'e', 'f', 'g', 'h', 'i', 'j', 'k', 'l', 'm',\n",
       "       'n', 'o', 'p', 'q', 'r', 's', 't', 'u', 'v', 'w', 'x', 'y', 'z'],\n",
       "      dtype='<U1')"
      ]
     },
     "execution_count": 215,
     "metadata": {},
     "output_type": "execute_result"
    }
   ],
   "source": [
    "unique_char_array = np.array(unique_character)\n",
    "unique_char_array"
   ]
  },
  {
   "cell_type": "markdown",
   "id": "b032570d",
   "metadata": {},
   "source": [
    "### **Assign a number to each unique character in a dictionary**"
   ]
  },
  {
   "cell_type": "code",
   "execution_count": 216,
   "id": "33f5ccea",
   "metadata": {},
   "outputs": [],
   "source": [
    "def assign_number_character(character):\n",
    "    char_to_int = {j:i for i, j in enumerate(unique_character)}\n",
    "    return char_to_int\n",
    "\n",
    "char_int = assign_number_character(unique_character)"
   ]
  },
  {
   "cell_type": "code",
   "execution_count": 217,
   "id": "2faab08b",
   "metadata": {
    "scrolled": true
   },
   "outputs": [
    {
     "name": "stdout",
     "output_type": "stream",
     "text": [
      "{'\\n': 0, ' ': 1, '!': 2, '$': 3, '&': 4, \"'\": 5, ',': 6, '-': 7, '.': 8, '3': 9, ':': 10, ';': 11, '?': 12, 'A': 13, 'B': 14, 'C': 15, 'D': 16, 'E': 17, 'F': 18, 'G': 19, 'H': 20, 'I': 21, 'J': 22, 'K': 23, 'L': 24, 'M': 25, 'N': 26, 'O': 27, 'P': 28, 'Q': 29, 'R': 30, 'S': 31, 'T': 32, 'U': 33, 'V': 34, 'W': 35, 'X': 36, 'Y': 37, 'Z': 38, 'a': 39, 'b': 40, 'c': 41, 'd': 42, 'e': 43, 'f': 44, 'g': 45, 'h': 46, 'i': 47, 'j': 48, 'k': 49, 'l': 50, 'm': 51, 'n': 52, 'o': 53, 'p': 54, 'q': 55, 'r': 56, 's': 57, 't': 58, 'u': 59, 'v': 60, 'w': 61, 'x': 62, 'y': 63, 'z': 64}\n"
     ]
    }
   ],
   "source": [
    "print(char_int)"
   ]
  },
  {
   "cell_type": "markdown",
   "id": "e8248ea9",
   "metadata": {},
   "source": [
    "## **Vectorize the text**"
   ]
  },
  {
   "cell_type": "code",
   "execution_count": 218,
   "id": "64b32d53",
   "metadata": {},
   "outputs": [
    {
     "name": "stdout",
     "output_type": "stream",
     "text": [
      "First 60 characters : \n",
      "\n",
      " 'First Citizen:\\nBefore we proceed any further, hear me speak.' \n",
      "\n",
      " Mapped first 60 characters into integers:\n",
      "\n",
      " array([18, 47, 56, 57, 58,  1, 15, 47, 58, 47, 64, 43, 52, 10,  0, 14, 43,\n",
      "       44, 53, 56, 43,  1, 61, 43,  1, 54, 56, 53, 41, 43, 43, 42,  1, 39,\n",
      "       52, 63,  1, 44, 59, 56, 58, 46, 43, 56,  6,  1, 46, 43, 39, 56,  1,\n",
      "       51, 43,  1, 57, 54, 43, 39, 49,  8])\n"
     ]
    }
   ],
   "source": [
    "text_to_integer = np.array([char_int[i] for i in input_text], dtype=np.int32)\n",
    "\n",
    "print (f'First 60 characters : \\n\\n {repr(input_text[:60])} \\n\\n Mapped first 60 characters into integers:\\n\\n {repr(text_to_integer[:60])}')"
   ]
  },
  {
   "cell_type": "markdown",
   "id": "1f4c0b06",
   "metadata": {},
   "source": [
    "## **Create training sequence**"
   ]
  },
  {
   "cell_type": "markdown",
   "id": "65048546",
   "metadata": {},
   "source": [
    "The output text data will be the text sequence shifted one character forward.\n",
    "\n",
    "For example :\n",
    "\n",
    "**input sequence** : \"What is your nam\"\n",
    "\n",
    "**Output sequence** : \"hat is your name”\n",
    "\n",
    "We can use tensorflow's [**tf.data.Dataset.from_tensor_slices**](https://www.tensorflow.org/guide/data?hl=fr) function to convert a text vector into a stream of character indices.\n",
    "\n",
    "For more information, see the help method below :\n",
    "\n",
    "**help(tf.data.Dataset.from_tensor_slices)**"
   ]
  },
  {
   "cell_type": "code",
   "execution_count": 219,
   "id": "2e9805ee",
   "metadata": {},
   "outputs": [
    {
     "name": "stdout",
     "output_type": "stream",
     "text": [
      "F\n",
      "i\n",
      "r\n",
      "s\n",
      "t\n",
      " \n",
      "C\n",
      "i\n",
      "t\n",
      "i\n",
      "z\n",
      "e\n",
      "n\n",
      ":\n",
      "\n",
      "\n"
     ]
    }
   ],
   "source": [
    "character_dataset = tf.data.Dataset.from_tensor_slices(text_to_integer)\n",
    "\n",
    "for character in character_dataset.take(15):\n",
    "    print(unique_char_array[character.numpy()])"
   ]
  },
  {
   "cell_type": "markdown",
   "id": "7a5e6416",
   "metadata": {},
   "source": [
    "### **Batch sequence**\n",
    "\n",
    "\n",
    "[**Batch method for creating batch sequences**](https://www.tensorflow.org/api_docs/python/tf/data/Dataset#batch)"
   ]
  },
  {
   "cell_type": "code",
   "execution_count": 220,
   "id": "4ad58836",
   "metadata": {},
   "outputs": [
    {
     "name": "stdout",
     "output_type": "stream",
     "text": [
      "Total number sequences in the text : 7910\n"
     ]
    }
   ],
   "source": [
    "# We set the maximum sentence length to 140 to fit most sentences\n",
    "\n",
    "seq_length = 140\n",
    "\n",
    "total_number_sequences = len(input_text) // (seq_length + 1)\n",
    "\n",
    "print('Total number sequences in the text :', total_number_sequences)"
   ]
  },
  {
   "cell_type": "markdown",
   "id": "3d61f73c",
   "metadata": {},
   "source": [
    "The **batch** method converts these consecutive elements of individual characters into **batch sequences**. We use **seq_len+1** because of zero indexing. Let's set **drop_remainder** to True so we can always keep the same batch size."
   ]
  },
  {
   "cell_type": "code",
   "execution_count": 221,
   "id": "60be05cd",
   "metadata": {},
   "outputs": [],
   "source": [
    "sequences =character_dataset.batch(seq_length  + 1, drop_remainder=True)"
   ]
  },
  {
   "cell_type": "code",
   "execution_count": 222,
   "id": "03584505",
   "metadata": {},
   "outputs": [
    {
     "name": "stdout",
     "output_type": "stream",
     "text": [
      "Total number of sequences : 7910 \n",
      "\n",
      "'First Citizen:\\nBefore we proceed any further, hear me speak.\\n\\nAll:\\nSpeak, speak.\\n\\nFirst Citizen:\\nYou are all resolved rather to die than to f'\n",
      "\"amish?\\n\\nAll:\\nResolved. resolved.\\n\\nFirst Citizen:\\nFirst, you know Caius Marcius is chief enemy to the people.\\n\\nAll:\\nWe know't, we know't.\\n\\nFir\"\n",
      "\"st Citizen:\\nLet us kill him, and we'll have corn at our own price.\\nIs't a verdict?\\n\\nAll:\\nNo more talking on't; let it be done: away, away!\\n\\nS\"\n",
      "'econd Citizen:\\nOne word, good citizens.\\n\\nFirst Citizen:\\nWe are accounted poor citizens, the patricians good.\\nWhat authority surfeits on would'\n",
      "' relieve us: if they\\nwould yield us but the superfluity, while it were\\nwholesome, we might guess they relieved us humanely;\\nbut they think we'\n",
      "' are too dear: the leanness that\\nafflicts us, the object of our misery, is as an\\ninventory to particularise their abundance; our\\nsufferance i'\n"
     ]
    }
   ],
   "source": [
    "# Sequences size is the same as total number sequences in the text\n",
    "\n",
    "print(f'Total number of sequences : {len(list(sequences.as_numpy_iterator()))} \\n');\n",
    "\n",
    "# Example of first 6 sentence sequences\n",
    "for item in sequences.take(6):\n",
    "    print(repr(''.join(unique_char_array[item.numpy()])))"
   ]
  },
  {
   "cell_type": "markdown",
   "id": "eee14015",
   "metadata": {},
   "source": [
    "## **Create an input text dataset and a target text dataset**\n",
    "\n",
    "\n",
    "For example, let's say **seq_length** is 4 and our text is **name**. The input sequence would be **nam** and the target sequence **ame**. We define a function to create our input sequences and our target sequences."
   ]
  },
  {
   "cell_type": "code",
   "execution_count": 223,
   "id": "0802ed51",
   "metadata": {},
   "outputs": [],
   "source": [
    "def create_sequence_input_target(sequence):\n",
    "    input_txt = sequence[:-1]\n",
    "    target_txt = sequence[1:]\n",
    "    return input_txt, target_txt"
   ]
  },
  {
   "cell_type": "code",
   "execution_count": 224,
   "id": "90044497",
   "metadata": {},
   "outputs": [
    {
     "name": "stdout",
     "output_type": "stream",
     "text": [
      "WARNING:tensorflow:AutoGraph could not transform <function create_sequence_input_target at 0x000002288A3E5040> and will run it as-is.\n",
      "Please report this to the TensorFlow team. When filing the bug, set the verbosity to 10 (on Linux, `export AUTOGRAPH_VERBOSITY=10`) and attach the full output.\n",
      "Cause: module 'gast' has no attribute 'Index'\n",
      "To silence this warning, decorate the function with @tf.autograph.experimental.do_not_convert\n",
      "WARNING: AutoGraph could not transform <function create_sequence_input_target at 0x000002288A3E5040> and will run it as-is.\n",
      "Please report this to the TensorFlow team. When filing the bug, set the verbosity to 10 (on Linux, `export AUTOGRAPH_VERBOSITY=10`) and attach the full output.\n",
      "Cause: module 'gast' has no attribute 'Index'\n",
      "To silence this warning, decorate the function with @tf.autograph.experimental.do_not_convert\n"
     ]
    }
   ],
   "source": [
    "dataset = sequences.map(create_sequence_input_target)"
   ]
  },
  {
   "cell_type": "markdown",
   "id": "bcff4b43",
   "metadata": {},
   "source": [
    "### **Let's see the first input and target sequence**"
   ]
  },
  {
   "cell_type": "code",
   "execution_count": 225,
   "id": "89e66a63",
   "metadata": {},
   "outputs": [
    {
     "name": "stdout",
     "output_type": "stream",
     "text": [
      "Dataset sequence size : 7910\n",
      "Input sequence size : 140\n",
      "Target sequence size : 140 \n",
      "\n",
      "Input : 'First Citizen:\\nBefore we proceed any further, hear me speak.\\n\\nAll:\\nSpeak, speak.\\n\\nFirst Citizen:\\nYou are all resolved rather to die than to ' \n",
      "\n",
      "[18 47 56 57 58  1 15 47 58 47 64 43 52 10  0 14 43 44 53 56 43  1 61 43\n",
      "  1 54 56 53 41 43 43 42  1 39 52 63  1 44 59 56 58 46 43 56  6  1 46 43\n",
      " 39 56  1 51 43  1 57 54 43 39 49  8  0  0 13 50 50 10  0 31 54 43 39 49\n",
      "  6  1 57 54 43 39 49  8  0  0 18 47 56 57 58  1 15 47 58 47 64 43 52 10\n",
      "  0 37 53 59  1 39 56 43  1 39 50 50  1 56 43 57 53 50 60 43 42  1 56 39\n",
      " 58 46 43 56  1 58 53  1 42 47 43  1 58 46 39 52  1 58 53  1] \n",
      "\n",
      "Target : 'irst Citizen:\\nBefore we proceed any further, hear me speak.\\n\\nAll:\\nSpeak, speak.\\n\\nFirst Citizen:\\nYou are all resolved rather to die than to f' \n",
      "\n",
      "[47 56 57 58  1 15 47 58 47 64 43 52 10  0 14 43 44 53 56 43  1 61 43  1\n",
      " 54 56 53 41 43 43 42  1 39 52 63  1 44 59 56 58 46 43 56  6  1 46 43 39\n",
      " 56  1 51 43  1 57 54 43 39 49  8  0  0 13 50 50 10  0 31 54 43 39 49  6\n",
      "  1 57 54 43 39 49  8  0  0 18 47 56 57 58  1 15 47 58 47 64 43 52 10  0\n",
      " 37 53 59  1 39 56 43  1 39 50 50  1 56 43 57 53 50 60 43 42  1 56 39 58\n",
      " 46 43 56  1 58 53  1 42 47 43  1 58 46 39 52  1 58 53  1 44] \n",
      "\n"
     ]
    }
   ],
   "source": [
    "for input_txt, target_txt in dataset.take(1):\n",
    "    \n",
    "    print('Dataset sequence size :', len(dataset))\n",
    "    print('Input sequence size :', repr(len(input_txt.numpy())))\n",
    "    print('Target sequence size :', repr(len(target_txt.numpy())), \"\\n\")\n",
    "    \n",
    "    print('Input :', repr(''.join(unique_char_array[input_txt.numpy()])), \"\\n\")\n",
    "    print(input_txt.numpy(), \"\\n\")\n",
    "    \n",
    "    print('Target :', repr(''.join(unique_char_array[target_txt.numpy()])), \"\\n\")\n",
    "    print(target_txt.numpy(), \"\\n\")"
   ]
  },
  {
   "cell_type": "markdown",
   "id": "600fb2c9",
   "metadata": {},
   "source": [
    "## **Generate batch sequences**\n",
    "\n",
    "We divided the text into sequences using **tf.data.dataset**. But before we feed this data into the model, we need to mix and batch it.\n",
    "\n",
    "[**Batch and Shuffle**](https://www.youtube.com/watch?v=c7G5W4Wv72Q)\n",
    "\n",
    "[**Batch**](https://www.tensorflow.org/api_docs/python/tf/data/Dataset#batch)\n",
    "\n",
    "[**Shuffle**](https://www.tensorflow.org/api_docs/python/tf/data/Dataset#shuffle)\n",
    "\n",
    "[**Meaning of buffer_size**](https://stackoverflow.com/questions/46444018/meaning-of-buffer-size-in-dataset-map-dataset-prefetch-and-dataset-shuffle)"
   ]
  },
  {
   "cell_type": "code",
   "execution_count": 226,
   "id": "e3331b13",
   "metadata": {},
   "outputs": [],
   "source": [
    "# Batch size\n",
    "batch_size = 100\n",
    "buffer_size = 10000"
   ]
  },
  {
   "cell_type": "code",
   "execution_count": 227,
   "id": "8fbb36da",
   "metadata": {},
   "outputs": [],
   "source": [
    "dataset = dataset.shuffle(buffer_size).batch(batch_size, drop_remainder=True)"
   ]
  },
  {
   "cell_type": "code",
   "execution_count": 228,
   "id": "8e637e00",
   "metadata": {},
   "outputs": [
    {
     "data": {
      "text/plain": [
       "<BatchDataset shapes: ((100, 140), (100, 140)), types: (tf.int32, tf.int32)>"
      ]
     },
     "execution_count": 228,
     "metadata": {},
     "output_type": "execute_result"
    }
   ],
   "source": [
    "dataset"
   ]
  },
  {
   "cell_type": "code",
   "execution_count": 229,
   "id": "5a9a1482",
   "metadata": {},
   "outputs": [
    {
     "name": "stdout",
     "output_type": "stream",
     "text": [
      "Batched dataset size: 79\n"
     ]
    }
   ],
   "source": [
    "print(f'Batched dataset size: {len(list(dataset.as_numpy_iterator()))}')"
   ]
  },
  {
   "cell_type": "code",
   "execution_count": 230,
   "id": "1f3d79ba",
   "metadata": {},
   "outputs": [
    {
     "name": "stdout",
     "output_type": "stream",
     "text": [
      "First batch : input_text : \n",
      "\n",
      " tf.Tensor(\n",
      "[[ 1 61 39 ...  8  1 14]\n",
      " [61 52 10 ...  1 57 46]\n",
      " [ 1 57 47 ...  1 57 54]\n",
      " ...\n",
      " [53  1 58 ... 59 58  1]\n",
      " [42  1 46 ...  1 39 51]\n",
      " [46 63  1 ...  8  0  0]], shape=(100, 140), dtype=int32) \n",
      "\n",
      "\n",
      "First batch : target_text : \n",
      "\n",
      " tf.Tensor(\n",
      "[[61 39 58 ...  1 14 63]\n",
      " [52 10  0 ... 57 46 43]\n",
      " [57 47 56 ... 57 54 50]\n",
      " ...\n",
      " [ 1 58 46 ... 58  1 40]\n",
      " [ 1 46 39 ... 39 51  1]\n",
      " [63  1 50 ...  0  0 30]], shape=(100, 140), dtype=int32)\n"
     ]
    }
   ],
   "source": [
    "for input_text, target_text in dataset.take(1):\n",
    "    print('First batch : input_text : \\n\\n', input_text, \"\\n\\n\")\n",
    "\n",
    "    print('First batch : target_text : \\n\\n', target_text)"
   ]
  },
  {
   "cell_type": "markdown",
   "id": "85e1e6fb",
   "metadata": {},
   "source": [
    "## **Create model**"
   ]
  },
  {
   "cell_type": "markdown",
   "id": "ae64ed1a",
   "metadata": {},
   "source": [
    "### **Important parameters**"
   ]
  },
  {
   "cell_type": "code",
   "execution_count": 231,
   "id": "7ee867cc",
   "metadata": {},
   "outputs": [],
   "source": [
    "# Length of unique characters \n",
    "character_size = len(unique_character)\n",
    "\n",
    "# The embedding dimensiong\n",
    "embed_dim = 64\n",
    "\n",
    "# Number of RNN units\n",
    "rnn_neurons = 1026"
   ]
  },
  {
   "cell_type": "markdown",
   "id": "79d82553",
   "metadata": {},
   "source": [
    "### **Important Libraries**"
   ]
  },
  {
   "cell_type": "code",
   "execution_count": 232,
   "id": "cf6e5a73",
   "metadata": {},
   "outputs": [],
   "source": [
    "from tensorflow.keras.models import Sequential\n",
    "from tensorflow.keras.layers import Dense,Embedding,GRU"
   ]
  },
  {
   "cell_type": "markdown",
   "id": "1df20151",
   "metadata": {},
   "source": [
    "### **Sequential model**\n",
    "\n",
    "[Sequential model](https://keras.io/guides/sequential_model/)"
   ]
  },
  {
   "cell_type": "markdown",
   "id": "147f040f",
   "metadata": {},
   "source": [
    "### **Loss function**\n",
    "\n",
    "[sparse_categorical_crossentropy](https://keras.io/api/losses/probabilistic_losses/#sparse_categorical_crossentropy-function:~:text=%5Bsource%5D-,sparse_categorical_crossentropyfonction,-tf.keras)\n",
    "\n",
    "[losses](https://keras.io/api/losses/)"
   ]
  },
  {
   "cell_type": "code",
   "execution_count": 233,
   "id": "b1eacf28",
   "metadata": {},
   "outputs": [],
   "source": [
    "from tensorflow.keras.losses import sparse_categorical_crossentropy\n",
    "\n",
    "def sparse_cat_loss(y_true,y_pred):\n",
    "    \n",
    "  return sparse_categorical_crossentropy(y_true, y_pred, from_logits=True)"
   ]
  },
  {
   "cell_type": "markdown",
   "id": "a179161d",
   "metadata": {},
   "source": [
    "### **Optimizer**\n",
    "\n",
    "[Optimizer Adam](https://keras.io/keras_core/api/optimizers/adam/)\n",
    "\n",
    "[Optimizer Adam](https://stackoverflow.com/questions/42966393/is-it-good-learning-rate-for-adam-method) "
   ]
  },
  {
   "cell_type": "markdown",
   "id": "63d0ee1f",
   "metadata": {},
   "source": [
    "### **Embedding layer**\n",
    "\n",
    "[Embedding layer](https://keras.io/api/layers/core_layers/embedding/)"
   ]
  },
  {
   "cell_type": "markdown",
   "id": "ea1206d7",
   "metadata": {},
   "source": [
    "### **GRU layer**\n",
    "\n",
    "[GRU layer](https://keras.io/api/layers/recurrent_layers/gru/)"
   ]
  },
  {
   "cell_type": "markdown",
   "id": "c6b27d3f",
   "metadata": {},
   "source": [
    "### **Dense layer**\n",
    "\n",
    "[Dense layer](https://keras.io/api/layers/core_layers/dense/)"
   ]
  },
  {
   "cell_type": "markdown",
   "id": "bc095d9f",
   "metadata": {},
   "source": [
    "### **Function to build the model**"
   ]
  },
  {
   "cell_type": "code",
   "execution_count": 234,
   "id": "074a08d7",
   "metadata": {},
   "outputs": [],
   "source": [
    "def create_model(character_size, embed_dim, rnn_neurons, batch_size):\n",
    "    \n",
    "    model = Sequential()\n",
    "    \n",
    "    model.add(Embedding(character_size, embed_dim, batch_input_shape=[batch_size, None]))\n",
    "    \n",
    "    model.add(GRU(rnn_neurons,return_sequences=True,\n",
    "                  \n",
    "            stateful=True,recurrent_initializer='glorot_uniform'))\n",
    "    \n",
    "    # Final dense prediction layer\n",
    "    model.add(Dense(character_size))\n",
    "    \n",
    "    model.compile(optimizer='adam', loss=sparse_cat_loss) \n",
    "    \n",
    "    return model"
   ]
  },
  {
   "cell_type": "markdown",
   "id": "15d6de6d",
   "metadata": {},
   "source": [
    "### **Apply this function to the model**"
   ]
  },
  {
   "cell_type": "code",
   "execution_count": 235,
   "id": "d5edd4be",
   "metadata": {},
   "outputs": [],
   "source": [
    "model = create_model(\n",
    "  \n",
    "  character_size = character_size,\n",
    "    \n",
    "  embed_dim = embed_dim,\n",
    "    \n",
    "  rnn_neurons = rnn_neurons,\n",
    "    \n",
    "  batch_size = batch_size)"
   ]
  },
  {
   "cell_type": "markdown",
   "id": "be84e089",
   "metadata": {},
   "source": [
    "### **Model summary**"
   ]
  },
  {
   "cell_type": "code",
   "execution_count": 236,
   "id": "4f26145d",
   "metadata": {},
   "outputs": [
    {
     "name": "stdout",
     "output_type": "stream",
     "text": [
      "Model: \"sequential_1\"\n",
      "_________________________________________________________________\n",
      "Layer (type)                 Output Shape              Param #   \n",
      "=================================================================\n",
      "embedding_1 (Embedding)      (100, None, 64)           4160      \n",
      "_________________________________________________________________\n",
      "gru_1 (GRU)                  (100, None, 1026)         3361176   \n",
      "_________________________________________________________________\n",
      "dense_1 (Dense)              (100, None, 65)           66755     \n",
      "=================================================================\n",
      "Total params: 3,432,091\n",
      "Trainable params: 3,432,091\n",
      "Non-trainable params: 0\n",
      "_________________________________________________________________\n"
     ]
    }
   ],
   "source": [
    "model.summary()"
   ]
  },
  {
   "cell_type": "markdown",
   "id": "2b6e269f",
   "metadata": {},
   "source": [
    "### **Make a prediction**"
   ]
  },
  {
   "cell_type": "code",
   "execution_count": 237,
   "id": "818a87d6",
   "metadata": {},
   "outputs": [
    {
     "name": "stdout",
     "output_type": "stream",
     "text": [
      "(batch_size, sequence_length, vocab_size) : (100, 140, 65)\n"
     ]
    }
   ],
   "source": [
    "for input_batch, target_batch in dataset.take(1):\n",
    "\n",
    "  # Predict on a random batch\n",
    "  batch_predictions = model(input_batch)\n",
    "\n",
    "  # Show prediction dimensions\n",
    "  print(\"(batch_size, sequence_length, vocab_size) :\", batch_predictions.shape)"
   ]
  },
  {
   "cell_type": "code",
   "execution_count": 238,
   "id": "385be443",
   "metadata": {},
   "outputs": [
    {
     "data": {
      "text/plain": [
       "<tf.Tensor: shape=(140, 65), dtype=float32, numpy=\n",
       "array([[-5.9129312e-03,  4.9235863e-03,  4.8190127e-03, ...,\n",
       "         4.8950221e-03, -7.7561103e-04,  8.5943611e-03],\n",
       "       [-4.7189635e-03, -5.1007718e-03,  5.1874417e-04, ...,\n",
       "        -2.1569394e-03,  9.1702602e-04,  1.2824715e-03],\n",
       "       [-4.9849623e-03, -9.7254692e-03, -7.4831652e-03, ...,\n",
       "        -1.2479336e-03, -5.3323382e-03, -2.8109383e-03],\n",
       "       ...,\n",
       "       [-1.3473843e-03, -3.9229491e-03, -7.2972379e-03, ...,\n",
       "        -5.4390579e-03,  4.2343553e-04, -2.9438946e-03],\n",
       "       [-1.7628614e-03,  9.5512471e-05, -1.1989098e-02, ...,\n",
       "        -2.7793855e-04,  3.5751036e-03, -3.2973664e-03],\n",
       "       [ 1.5641151e-03,  7.8698259e-04, -5.2605355e-03, ...,\n",
       "         7.3772026e-03, -6.8745168e-04,  1.3171420e-03]], dtype=float32)>"
      ]
     },
     "execution_count": 238,
     "metadata": {},
     "output_type": "execute_result"
    }
   ],
   "source": [
    "batch_predictions[0]"
   ]
  },
  {
   "cell_type": "markdown",
   "id": "a2a63ae9",
   "metadata": {},
   "source": [
    "### **Fit the model**\n",
    "\n",
    "I took 10 as the number of epochs, because training takes a long time. So, we can choose a large value of epochs and simply use an early stop which will stop training as soon as the cost function starts to increase."
   ]
  },
  {
   "cell_type": "code",
   "execution_count": 239,
   "id": "7c70612e",
   "metadata": {},
   "outputs": [],
   "source": [
    "epochs = 10"
   ]
  },
  {
   "cell_type": "code",
   "execution_count": 240,
   "id": "e0530eec",
   "metadata": {},
   "outputs": [
    {
     "name": "stdout",
     "output_type": "stream",
     "text": [
      "Epoch 1/10\n",
      "79/79 [==============================] - 540s 7s/step - loss: 3.4164\n",
      "Epoch 2/10\n",
      "79/79 [==============================] - 538s 7s/step - loss: 2.4865\n",
      "Epoch 3/10\n",
      "79/79 [==============================] - 535s 7s/step - loss: 2.2425\n",
      "Epoch 4/10\n",
      "79/79 [==============================] - 538s 7s/step - loss: 2.0762\n",
      "Epoch 5/10\n",
      "79/79 [==============================] - 534s 7s/step - loss: 1.9243\n",
      "Epoch 6/10\n",
      "79/79 [==============================] - 540s 7s/step - loss: 1.8000\n",
      "Epoch 7/10\n",
      "79/79 [==============================] - 533s 7s/step - loss: 1.6975\n",
      "Epoch 8/10\n",
      "79/79 [==============================] - 540s 7s/step - loss: 1.6152\n",
      "Epoch 9/10\n",
      "79/79 [==============================] - 607s 8s/step - loss: 1.5467\n",
      "Epoch 10/10\n",
      "79/79 [==============================] - 555s 7s/step - loss: 1.4935\n"
     ]
    },
    {
     "data": {
      "text/plain": [
       "<tensorflow.python.keras.callbacks.History at 0x228e150fdf0>"
      ]
     },
     "execution_count": 240,
     "metadata": {},
     "output_type": "execute_result"
    }
   ],
   "source": [
    "model.fit(dataset,epochs=epochs)"
   ]
  },
  {
   "cell_type": "markdown",
   "id": "4060738a",
   "metadata": {},
   "source": [
    "### **History of the losses**"
   ]
  },
  {
   "cell_type": "code",
   "execution_count": 241,
   "id": "3f24f0e4",
   "metadata": {},
   "outputs": [
    {
     "data": {
      "text/html": [
       "<div>\n",
       "<style scoped>\n",
       "    .dataframe tbody tr th:only-of-type {\n",
       "        vertical-align: middle;\n",
       "    }\n",
       "\n",
       "    .dataframe tbody tr th {\n",
       "        vertical-align: top;\n",
       "    }\n",
       "\n",
       "    .dataframe thead th {\n",
       "        text-align: right;\n",
       "    }\n",
       "</style>\n",
       "<table border=\"1\" class=\"dataframe\">\n",
       "  <thead>\n",
       "    <tr style=\"text-align: right;\">\n",
       "      <th></th>\n",
       "      <th>loss</th>\n",
       "    </tr>\n",
       "  </thead>\n",
       "  <tbody>\n",
       "    <tr>\n",
       "      <th>0</th>\n",
       "      <td>3.416409</td>\n",
       "    </tr>\n",
       "    <tr>\n",
       "      <th>1</th>\n",
       "      <td>2.486501</td>\n",
       "    </tr>\n",
       "    <tr>\n",
       "      <th>2</th>\n",
       "      <td>2.242489</td>\n",
       "    </tr>\n",
       "    <tr>\n",
       "      <th>3</th>\n",
       "      <td>2.076239</td>\n",
       "    </tr>\n",
       "    <tr>\n",
       "      <th>4</th>\n",
       "      <td>1.924338</td>\n",
       "    </tr>\n",
       "    <tr>\n",
       "      <th>5</th>\n",
       "      <td>1.800029</td>\n",
       "    </tr>\n",
       "    <tr>\n",
       "      <th>6</th>\n",
       "      <td>1.697549</td>\n",
       "    </tr>\n",
       "    <tr>\n",
       "      <th>7</th>\n",
       "      <td>1.615190</td>\n",
       "    </tr>\n",
       "    <tr>\n",
       "      <th>8</th>\n",
       "      <td>1.546668</td>\n",
       "    </tr>\n",
       "    <tr>\n",
       "      <th>9</th>\n",
       "      <td>1.493541</td>\n",
       "    </tr>\n",
       "  </tbody>\n",
       "</table>\n",
       "</div>"
      ],
      "text/plain": [
       "       loss\n",
       "0  3.416409\n",
       "1  2.486501\n",
       "2  2.242489\n",
       "3  2.076239\n",
       "4  1.924338\n",
       "5  1.800029\n",
       "6  1.697549\n",
       "7  1.615190\n",
       "8  1.546668\n",
       "9  1.493541"
      ]
     },
     "execution_count": 241,
     "metadata": {},
     "output_type": "execute_result"
    }
   ],
   "source": [
    "hsitory = pd.DataFrame(model.history.history)\n",
    "hsitory"
   ]
  },
  {
   "cell_type": "code",
   "execution_count": 242,
   "id": "330d8c67",
   "metadata": {},
   "outputs": [
    {
     "data": {
      "text/plain": [
       "<Axes: title={'center': 'Loss function'}>"
      ]
     },
     "execution_count": 242,
     "metadata": {},
     "output_type": "execute_result"
    },
    {
     "data": {
      "image/png": "[encoded data removed]",
      "text/plain": [
       "<Figure size 640x480 with 1 Axes>"
      ]
     },
     "metadata": {},
     "output_type": "display_data"
    }
   ],
   "source": [
    "hsitory.plot(title = \"Loss function\")"
   ]
  },
  {
   "cell_type": "markdown",
   "id": "8a53d62f",
   "metadata": {},
   "source": [
    "As we can see from the loss function curve, the curve continues to decrease, which means we can continue training by increasing the number of epochs. In this work, we keep the number of epochs at 10 because training takes a long time."
   ]
  },
  {
   "cell_type": "markdown",
   "id": "548fa937",
   "metadata": {},
   "source": [
    "## **Example of generate text**"
   ]
  },
  {
   "cell_type": "code",
   "execution_count": 243,
   "id": "c8b06560",
   "metadata": {},
   "outputs": [],
   "source": [
    "from tensorflow.keras.models import load_model"
   ]
  },
  {
   "cell_type": "markdown",
   "id": "679b7b3f",
   "metadata": {},
   "source": [
    "### **Save model**"
   ]
  },
  {
   "cell_type": "code",
   "execution_count": 244,
   "id": "149b38ff",
   "metadata": {},
   "outputs": [],
   "source": [
    "model.save(\"saved_model.h5\")"
   ]
  },
  {
   "cell_type": "markdown",
   "id": "db80b299",
   "metadata": {},
   "source": [
    "### **Load saved model**"
   ]
  },
  {
   "cell_type": "code",
   "execution_count": 246,
   "id": "dfcb8389",
   "metadata": {},
   "outputs": [],
   "source": [
    "saved_model = create_model(character_size, embed_dim, rnn_neurons, batch_size=1)\n",
    "\n",
    "saved_model.load_weights('saved_model.h5')\n",
    "\n",
    "saved_model.build(tf.TensorShape([1, None]))\n"
   ]
  },
  {
   "cell_type": "code",
   "execution_count": 247,
   "id": "7f33a5cc",
   "metadata": {},
   "outputs": [
    {
     "name": "stdout",
     "output_type": "stream",
     "text": [
      "Model: \"sequential_2\"\n",
      "_________________________________________________________________\n",
      "Layer (type)                 Output Shape              Param #   \n",
      "=================================================================\n",
      "embedding_2 (Embedding)      (1, None, 64)             4160      \n",
      "_________________________________________________________________\n",
      "gru_2 (GRU)                  (1, None, 1026)           3361176   \n",
      "_________________________________________________________________\n",
      "dense_2 (Dense)              (1, None, 65)             66755     \n",
      "=================================================================\n",
      "Total params: 3,432,091\n",
      "Trainable params: 3,432,091\n",
      "Non-trainable params: 0\n",
      "_________________________________________________________________\n"
     ]
    }
   ],
   "source": [
    "saved_model.summary()"
   ]
  },
  {
   "cell_type": "markdown",
   "id": "9c48efee",
   "metadata": {},
   "source": [
    "### **Function to generate text**"
   ]
  },
  {
   "cell_type": "code",
   "execution_count": 257,
   "id": "d0861cef",
   "metadata": {},
   "outputs": [],
   "source": [
    "def generate_text(model, start_text):\n",
    "    \n",
    "    #Number of characters to generate\n",
    "    num_char_generate = 2000 \n",
    "    \n",
    "    #vectorising input text\n",
    "    input_text_number = [char_int[i] for i in start_text] \n",
    "    input_text_number = tf.expand_dims(input_text_number, 0)\n",
    "\n",
    "    text_generated = []\n",
    "\n",
    "    # Temperature is used to affect the probability of following characters.\n",
    "    # Higher probability == less surprising/more expected\n",
    "    # A lower temperature == more surprising / less expect\n",
    "    \n",
    "    temperature = 0.5\n",
    "\n",
    "    # For batch size == 1\n",
    "    model.reset_states()\n",
    "    \n",
    "    for i in range(num_char_generate):\n",
    "        \n",
    "        predictions = model(input_text_number)\n",
    "        \n",
    "        # remove the batch dimension\n",
    "        predictions = tf.squeeze(predictions, 0)\n",
    "\n",
    "        # Use a categorical distribution to select the next character\n",
    "        predictions = predictions / temperature\n",
    "        predicted_id = tf.random.categorical(predictions, num_samples=1)[-1,0].numpy()\n",
    "\n",
    "        # We pass predicted character for next input\n",
    "        input_text_number = tf.expand_dims([predicted_id], 0)\n",
    "\n",
    "        text_generated.append(unique_char_array[predicted_id])\n",
    "\n",
    "    return (start_text + ''.join(text_generated))"
   ]
  },
  {
   "cell_type": "code",
   "execution_count": 258,
   "id": "001bcf41",
   "metadata": {
    "scrolled": false
   },
   "outputs": [
    {
     "name": "stdout",
     "output_type": "stream",
     "text": [
      "Provost:\n",
      "Where I will not that we dead the figely of the died.\n",
      "\n",
      "QUEEN ELIZABETH:\n",
      "The hands of her and to you the world and heart:\n",
      "I will therefore fair of the peeport with thee and that we seem to be in him\n",
      "That we bedind thee the state to dispose the highness and hangs?\n",
      "\n",
      "BUCKINGHAM:\n",
      "Why, he consure the fire of wares,\n",
      "That he with this dishonour's honest as forth your faith\n",
      "Be and mistress my heart to said and heart\n",
      "Untt of the strange that shall be strong to be consul.\n",
      "\n",
      "KING RICHARD II:\n",
      "Stay, do not speak thee to stand the most makes me stear\n",
      "And with the prince of my love, they are an out\n",
      "My present to the world to the world have some hand,\n",
      "The prince with the patience and and his lasts\n",
      "Than this wife and hath bone thee and field and sure\n",
      "Than we be sovereign being fight begin that he shall stands my sine,\n",
      "To answer the pate that so my king.\n",
      "\n",
      "DUKE VINCENTIO:\n",
      "The stands of his prance that with a man\n",
      "To see the world think the patient in the triempland at the world.\n",
      "\n",
      "KING EDWARD IV:\n",
      "And you how I have not death married and his tongue\n",
      "To save him there and lord unto the world.\n",
      "\n",
      "MARIANA:\n",
      "Sir, here be princes to her father's least.\n",
      "\n",
      "DUKE VINCENTIO:\n",
      "Here comes the nurse bears of my love them the companion.\n",
      "\n",
      "PRINCE:\n",
      "Heaven than the prince that stay the fool is the souls see\n",
      "\n",
      "Shepherd:\n",
      "The Duke of God, and they so call'd and revenge\n",
      "To day a worm and pity for she was flante is such a courtence\n",
      "That we that we are with her so stand and fair it so said for the dight,\n",
      "And that the sense of the thing that we strenged to any\n",
      "fair and mine own death of all the rest in the world.\n",
      "\n",
      "BUCKINGHAM:\n",
      "Then but thou art with the wite but a groans,\n",
      "And fair fair praise to be such a gunge her sonrow.\n",
      "\n",
      "DUKE VINCENTIO:\n",
      "They she we have deed him on the world and his honesty of my fore:\n",
      "For when he was deed to she will be so fear thee shall be sair\n",
      "That we suth and faster to the peilly said\n",
      "To have the gentle take the state, and his loves of my wars.\n",
      "\n",
      "LUCENTIO:\n",
      "I see the world to asking him to do this \n"
     ]
    }
   ],
   "source": [
    "#Prediction with User Input\n",
    "print(generate_text(saved_model, start_text=\"Provost:\"))"
   ]
  },
  {
   "cell_type": "markdown",
   "id": "a278cc3e",
   "metadata": {},
   "source": [
    "## **Bibliography**"
   ]
  },
  {
   "cell_type": "markdown",
   "id": "f03822a4",
   "metadata": {},
   "source": [
    "1. [Link Github](https://github.com/trekhleb/machine-learning-experiments/blob/master/experiments/text_generation_shakespeare_rnn/text_generation_shakespeare_rnn.ipynb) \n",
    "\n",
    "2. [Link Kaggle](https://www.kaggle.com/code/aashkatrivedi/shakespeare-text-generation) \n",
    "\n",
    "3. [Deep Learning with TensorFlow and Keras | MasterClass Python on Udemy](https://www.udemy.com/course/cours-complet-de-deep-learning-avec-tensorflow-et-keras/learn/lecture/27860894#overview)"
   ]
  }
 ],
 "metadata": {
  "kernelspec": {
   "display_name": "Python 3 (ipykernel)",
   "language": "python",
   "name": "python3"
  },
  "language_info": {
   "codemirror_mode": {
    "name": "ipython",
    "version": 3
   },
   "file_extension": ".py",
   "mimetype": "text/x-python",
   "name": "python",
   "nbconvert_exporter": "python",
   "pygments_lexer": "ipython3",
   "version": "3.8.18"
  }
 },
 "nbformat": 4,
 "nbformat_minor": 5
}
